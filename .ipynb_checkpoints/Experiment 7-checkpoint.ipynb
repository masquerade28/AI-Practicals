{
 "cells": [
  {
   "cell_type": "markdown",
   "id": "39cce0a9-5aed-46b8-aa87-9187449805f6",
   "metadata": {},
   "source": [
    "# LINEAR REGRESSION"
   ]
  },
  {
   "cell_type": "code",
   "execution_count": 1,
   "id": "5ec75ae3-bc5f-4582-8ea1-c8711289057a",
   "metadata": {},
   "outputs": [
    {
     "name": "stdout",
     "output_type": "stream",
     "text": [
      "WARNING:tensorflow:From C:\\Users\\JD\\AppData\\Local\\Programs\\Python\\Python311\\Lib\\site-packages\\tensorflow\\python\\compat\\v2_compat.py:107: disable_resource_variables (from tensorflow.python.ops.variable_scope) is deprecated and will be removed in a future version.\n",
      "Instructions for updating:\n",
      "non-resource variables are not supported in the long term\n"
     ]
    }
   ],
   "source": [
    "import numpy as np\n",
    "import tensorflow.compat.v1 as tf\n",
    "tf.disable_v2_behavior() \n",
    "import matplotlib.pyplot as plt"
   ]
  },
  {
   "cell_type": "markdown",
   "id": "3e247d58-7087-4b50-8670-50b9c0a0419d",
   "metadata": {},
   "source": [
    "## Defining Parameters"
   ]
  },
  {
   "cell_type": "code",
   "execution_count": 2,
   "id": "cf592202-a79e-45d1-8f2e-16beb2687751",
   "metadata": {},
   "outputs": [],
   "source": [
    "np.random.seed(101)\n",
    "learning_rate = 0.01\n",
    "training_epochs = 1000"
   ]
  },
  {
   "cell_type": "markdown",
   "id": "7ac835d4-127f-4e28-891d-b443e4c86cbd",
   "metadata": {},
   "source": [
    "## Creating Dataset"
   ]
  },
  {
   "cell_type": "code",
   "execution_count": 3,
   "id": "ffdad3db-e1ea-4ce7-b985-b301ab92874e",
   "metadata": {},
   "outputs": [],
   "source": [
    "# Generating random linear data\n",
    "x = np.linspace(0, 50, 50)\n",
    "y = np.linspace(0, 50, 50)\n",
    "\n",
    "# Adding noise to the random linear data\n",
    "x += np.random.uniform(-4, 4, 50)\n",
    "y += np.random.uniform(-4, 4, 50)\n",
    "\n",
    "n = len(x) # Number of data points"
   ]
  },
  {
   "cell_type": "markdown",
   "id": "0218d936-c085-4216-a640-93c5db10d322",
   "metadata": {},
   "source": [
    "## Plotting Dataset"
   ]
  },
  {
   "cell_type": "code",
   "execution_count": 4,
   "id": "97ca1b8e-958b-4215-aa6c-a34840bcf12e",
   "metadata": {},
   "outputs": [
    {
     "data": {
      "image/png": "[encoded data removed]",
      "text/plain": [
       "<Figure size 640x480 with 1 Axes>"
      ]
     },
     "metadata": {},
     "output_type": "display_data"
    }
   ],
   "source": [
    "# Plot of Training Data\n",
    "plt.scatter(x, y)\n",
    "plt.xlabel('x')\n",
    "plt.ylabel('y')\n",
    "plt.title(\"Training Data\")\n",
    "plt.show()"
   ]
  },
  {
   "cell_type": "markdown",
   "id": "a7d6f4d8-64bb-4008-a190-fbfeb8958dc5",
   "metadata": {},
   "source": [
    "An optimizer is a function or an algorithm that adjusts the attributes of the neural network, such as weights and learning rates. Thus, it helps in reducing the overall loss and improving accuracy."
   ]
  },
  {
   "cell_type": "code",
   "execution_count": 5,
   "id": "0738d14a-39d1-4b93-8bfb-3dbcb9e6d491",
   "metadata": {},
   "outputs": [],
   "source": [
    "X = tf.placeholder(\"float\")\n",
    "Y = tf.placeholder(\"float\")\n",
    "W = tf.Variable(np.random.randn(), name = \"W\")\n",
    "b = tf.Variable(np.random.randn(), name = \"b\")"
   ]
  },
  {
   "cell_type": "markdown",
   "id": "2b05629c-3c7d-44a2-a23e-0d6a7609dd62",
   "metadata": {},
   "source": [
    "## Hypothesis"
   ]
  },
  {
   "cell_type": "code",
   "execution_count": 6,
   "id": "3be51f13-8970-4e31-b883-07e99a432b1c",
   "metadata": {},
   "outputs": [],
   "source": [
    "# Hypothesis\n",
    "y_pred = tf.add(tf.multiply(X, W), b)\n",
    "\n",
    "# Mean Squared Error Cost Function\n",
    "cost = tf.reduce_sum(tf.pow(y_pred-Y, 2)) / (2 * n)\n",
    "\n",
    "# Gradient Descent Optimizer\n",
    "optimizer = tf.train.GradientDescentOptimizer(learning_rate).minimize(cost)\n",
    "\n",
    "# Global Variables Initializer\n",
    "init = tf.global_variables_initializer()"
   ]
  },
  {
   "cell_type": "markdown",
   "id": "3759a24b-cd79-477b-98bf-bc4103c9c7ef",
   "metadata": {},
   "source": [
    "## Training Model"
   ]
  },
  {
   "cell_type": "code",
   "execution_count": 7,
   "id": "fb6caeeb-2182-4852-bedc-d53a9b83e7ad",
   "metadata": {},
   "outputs": [
    {
     "name": "stdout",
     "output_type": "stream",
     "text": [
      "Epoch 50 : cost = 5.8868036 W = 0.9951241 b = 1.238105\n",
      "Epoch 100 : cost = 5.7912693 W = 0.99812365 b = 1.0914395\n",
      "Epoch 150 : cost = 5.7119675 W = 1.0008028 b = 0.96044284\n",
      "Epoch 200 : cost = 5.6459413 W = 1.0031956 b = 0.84343934\n",
      "Epoch 250 : cost = 5.5907993 W = 1.0053328 b = 0.7389355\n",
      "Epoch 300 : cost = 5.544608 W = 1.007242 b = 0.6455921\n",
      "Epoch 350 : cost = 5.5057893 W = 1.008947 b = 0.56221986\n",
      "Epoch 400 : cost = 5.473065 W = 1.01047 b = 0.48775342\n",
      "Epoch 450 : cost = 5.445385 W = 1.0118302 b = 0.42124158\n",
      "Epoch 500 : cost = 5.4219036 W = 1.0130452 b = 0.36183482\n",
      "Epoch 550 : cost = 5.4019217 W = 1.0141305 b = 0.30877408\n",
      "Epoch 600 : cost = 5.3848557 W = 1.0150996 b = 0.2613811\n",
      "Epoch 650 : cost = 5.370246 W = 1.0159653 b = 0.21905078\n",
      "Epoch 700 : cost = 5.3576994 W = 1.0167387 b = 0.18124203\n",
      "Epoch 750 : cost = 5.3468933 W = 1.0174294 b = 0.14747237\n",
      "Epoch 800 : cost = 5.337558 W = 1.0180461 b = 0.11730931\n",
      "Epoch 850 : cost = 5.3294754 W = 1.0185971 b = 0.090368524\n",
      "Epoch 900 : cost = 5.322459 W = 1.0190892 b = 0.06630575\n",
      "Epoch 950 : cost = 5.3163586 W = 1.0195289 b = 0.044813294\n",
      "Epoch 1000 : cost = 5.3110332 W = 1.0199214 b = 0.02561658\n"
     ]
    }
   ],
   "source": [
    "# Starting the Tensorflow Session\n",
    "with tf.Session() as sess:\n",
    "\t\n",
    "\t# Initializing the Variables\n",
    "\tsess.run(init)\n",
    "\t\n",
    "\t# Iterating through all the epochs\n",
    "\tfor epoch in range(training_epochs):\n",
    "\t\t\n",
    "\t\t# Feeding each data point into the optimizer using Feed Dictionary\n",
    "\t\tfor (_x, _y) in zip(x, y):\n",
    "\t\t\tsess.run(optimizer, feed_dict = {X : _x, Y : _y})\n",
    "\t\t\n",
    "\t\t# Displaying the result after every 50 epochs\n",
    "\t\tif (epoch + 1) % 50 == 0:\n",
    "\t\t\t# Calculating the cost a every epoch\n",
    "\t\t\tc = sess.run(cost, feed_dict = {X : x, Y : y})\n",
    "\t\t\tprint(\"Epoch\", (epoch + 1), \": cost =\", c, \"W =\", sess.run(W), \"b =\", sess.run(b))\n",
    "\t\n",
    "\t# Storing necessary values to be used outside the Session\n",
    "\ttraining_cost = sess.run(cost, feed_dict ={X: x, Y: y})\n",
    "\tweight = sess.run(W)\n",
    "\tbias = sess.run(b)"
   ]
  },
  {
   "cell_type": "markdown",
   "id": "14d9c15f-e253-4107-8ddb-58de9d1c4da2",
   "metadata": {},
   "source": [
    "## Making Prediction"
   ]
  },
  {
   "cell_type": "code",
   "execution_count": 8,
   "id": "bccd891e-2cb7-4796-a89b-e55b4a3c2c0b",
   "metadata": {},
   "outputs": [
    {
     "name": "stdout",
     "output_type": "stream",
     "text": [
      "Training cost = 5.3110332 Weight = 1.0199214 bias = 0.02561658 \n",
      "\n"
     ]
    }
   ],
   "source": [
    "# Calculating the predictions\n",
    "predictions = weight * x + bias\n",
    "print(\"Training cost =\", training_cost, \"Weight =\", weight, \"bias =\", bias, '\\n')"
   ]
  },
  {
   "cell_type": "markdown",
   "id": "e6de09b0-d25b-420a-87b9-862e71b07554",
   "metadata": {},
   "source": [
    "## Plotting Result"
   ]
  },
  {
   "cell_type": "code",
   "execution_count": 9,
   "id": "49952845-5c64-4802-b7e6-a0999c6e2135",
   "metadata": {},
   "outputs": [
    {
     "data": {
      "image/png": "[encoded data removed]",
      "text/plain": [
       "<Figure size 640x480 with 1 Axes>"
      ]
     },
     "metadata": {},
     "output_type": "display_data"
    }
   ],
   "source": [
    "# Plotting the Results\n",
    "plt.plot(x, y, 'ro', label ='Original data')\n",
    "plt.plot(x, predictions, label ='Fitted line')\n",
    "plt.title('Linear Regression Result')\n",
    "plt.legend()\n",
    "plt.show()"
   ]
  }
 ],
 "metadata": {
  "kernelspec": {
   "display_name": "Python 3 (ipykernel)",
   "language": "python",
   "name": "python3"
  },
  "language_info": {
   "codemirror_mode": {
    "name": "ipython",
    "version": 3
   },
   "file_extension": ".py",
   "mimetype": "text/x-python",
   "name": "python",
   "nbconvert_exporter": "python",
   "pygments_lexer": "ipython3",
   "version": "3.11.7"
  }
 },
 "nbformat": 4,
 "nbformat_minor": 5
}
