{
 "cells": [
  {
   "cell_type": "markdown",
   "id": "a0093c65-4ac2-4d39-a969-ad012e24a5a8",
   "metadata": {},
   "source": [
    "# PERCEPTRON MODEL"
   ]
  },
  {
   "cell_type": "code",
   "execution_count": 1,
   "id": "42bd415b-d4c4-4921-a606-79bd37ec4a23",
   "metadata": {},
   "outputs": [],
   "source": [
    "import numpy as np"
   ]
  },
  {
   "cell_type": "markdown",
   "id": "18e6be9d-aba9-46c9-b905-1b73a9606215",
   "metadata": {},
   "source": [
    "## Creating Model"
   ]
  },
  {
   "cell_type": "code",
   "execution_count": 2,
   "id": "f887795b-6136-4620-a38a-59378111fbc0",
   "metadata": {},
   "outputs": [],
   "source": [
    "class Perceptron:\n",
    "    def __init__(self, N, alpha=0.1):\n",
    "        self.W = np.random.randn(N+1) / np.sqrt(N)\n",
    "        self.alpha = alpha\n",
    "    \n",
    "    def step(self,x):\n",
    "        return 1 if x>0 else 0\n",
    "\n",
    "    def fit(self, X, y, epochs=10):\n",
    "        \n",
    "        # insert a column of 1's as the last entry in the feature thus allows us to treat the bias as a trainable parameter within the weight matrix\n",
    "        X = np.c_[X, np.ones((X.shape[0]))]\n",
    "\n",
    "        # loop over the desired number of epochs\n",
    "        for epoch in np.arange(0, epochs):\n",
    "\n",
    "            # loop over each individual data points\n",
    "            for(x, target) in zip(X, y):\n",
    "\n",
    "                # Making Prediction\n",
    "                pred = self.step(np.dot(x, self.W))\n",
    "\n",
    "                # Checking prediction matches with the actual values\n",
    "                if pred != target :\n",
    "                    error = pred - target\n",
    "                    self. W += -self.alpha * error * x   \n",
    "\n",
    "    def predict(self, X, addBias=True):\n",
    "        X = np.atleast_2d(X)\n",
    "        if addBias :\n",
    "            X = np.c_[X, np.ones((X.shape[0]))]\n",
    "        return self.step(np.dot(X, self.W))"
   ]
  },
  {
   "cell_type": "markdown",
   "id": "adfeff51-a007-437b-bce7-4ae9ce37ea87",
   "metadata": {},
   "source": [
    "## Creating Dataset & Training"
   ]
  },
  {
   "cell_type": "code",
   "execution_count": 3,
   "id": "bab0dc51-f925-4185-9ef0-02de4e53e05e",
   "metadata": {},
   "outputs": [
    {
     "name": "stdout",
     "output_type": "stream",
     "text": [
      "[INFO] training perceptron...\n"
     ]
    }
   ],
   "source": [
    "# construct the OR dataset\n",
    "X = np.array([[0, 0], [0, 1], [1, 0], [1, 1]])\n",
    "y = np.array([[0], [1], [1], [1]])\n",
    "\n",
    "# define our perceptron and train it\n",
    "print(\"[INFO] training perceptron...\")\n",
    "p = Perceptron(X.shape[1], alpha=0.1)\n",
    "p.fit(X, y, epochs=20)"
   ]
  },
  {
   "cell_type": "markdown",
   "id": "74cd722f-9875-465e-8dee-209fbb3ef66f",
   "metadata": {},
   "source": [
    "## Testing"
   ]
  },
  {
   "cell_type": "code",
   "execution_count": 4,
   "id": "ab425aa6-9587-4e7a-90b2-fdcc712113e2",
   "metadata": {},
   "outputs": [
    {
     "name": "stdout",
     "output_type": "stream",
     "text": [
      "[INFO] testing perceptron...\n",
      "[INFO] data=[0 0], ground-truth=0, pred=0\n",
      "[INFO] data=[0 1], ground-truth=1, pred=1\n",
      "[INFO] data=[1 0], ground-truth=1, pred=1\n",
      "[INFO] data=[1 1], ground-truth=1, pred=1\n"
     ]
    }
   ],
   "source": [
    "print(\"[INFO] testing perceptron...\")\n",
    "\n",
    "# looping over the data points\n",
    "for (x, target) in zip(X, y):\n",
    "\tpred = p.predict(x)\n",
    "\tprint(\"[INFO] data={}, ground-truth={}, pred={}\".format(x, target[0], pred))"
   ]
  }
 ],
 "metadata": {
  "kernelspec": {
   "display_name": "Python 3 (ipykernel)",
   "language": "python",
   "name": "python3"
  },
  "language_info": {
   "codemirror_mode": {
    "name": "ipython",
    "version": 3
   },
   "file_extension": ".py",
   "mimetype": "text/x-python",
   "name": "python",
   "nbconvert_exporter": "python",
   "pygments_lexer": "ipython3",
   "version": "3.11.7"
  }
 },
 "nbformat": 4,
 "nbformat_minor": 5
}
