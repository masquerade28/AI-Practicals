{
 "cells": [
  {
   "cell_type": "markdown",
   "id": "0ea6f039-f028-4f53-addf-53c758bd9a5b",
   "metadata": {},
   "source": [
    "# OBJECT DETECTION"
   ]
  },
  {
   "cell_type": "code",
   "execution_count": null,
   "id": "2416ebe7-3e22-457e-aa75-3006d5555109",
   "metadata": {},
   "outputs": [],
   "source": [
    "import cv2\n",
    "import numpy as np \n",
    "import tensorflow as tf\n",
    "from tensorflow.keras.applications.mobilenet_v2 import preprocess_input, decode_predictions\n",
    "from tensorflow.keras.applications import MobileNetV2"
   ]
  },
  {
   "cell_type": "code",
   "execution_count": null,
   "id": "92de0ae6-11e9-4fec-9509-0db09b0fc236",
   "metadata": {},
   "outputs": [],
   "source": [
    "# Load the pre-trained MobileNetV2 model\n",
    "model = MobileNetV2(weights='imagenet')\n",
    "\n",
    "# Initialize webcam\n",
    "cap = cv2.VideoCapture(0)\n",
    "\n",
    "if not cap.isOpened(): \n",
    "    print(\"Error: Could not open webcam.\")\n",
    "    exit()\n",
    "\n",
    "while True:\n",
    "    # Capture frame-by\u0002frame\n",
    "    ret, frame = cap.read()\n",
    "    if not ret:\n",
    "        print(\"Failed to grab frame.\")\n",
    "        break\n",
    "        \n",
    "    # Resize the frame to 224x224 pixels (MobileNetV2's input size)\n",
    "    img_resized = cv2.resize(frame, (224, 224))\n",
    "\n",
    "    # Convert image to array and preprocess it\n",
    "    img_array = np.array(img_resized)\n",
    "    img_array = np.expand_dims(img_array, axis=0) # Expand dimensions to fit model'sinput shape\n",
    "    img_preprocessed = preprocess_input(img_array) # Preprocessing for MobileNetV2\n",
    "\n",
    "    # Predict the object in the frame\n",
    "    predictions = model.predict(img_preprocessed)\n",
    "\n",
    "    # Decode the top prediction\n",
    "    decoded_predictions = decode_predictions(predictions, top=1)[0]\n",
    "\n",
    "    # Get the label and confidence \n",
    "    label = decoded_predictions[0][1]\n",
    "    confidence = decoded_predictions[0][2]\n",
    "\n",
    "    # Display the label and confidence on the frame \n",
    "    cv2.putText(frame, f\"{label}: {confidence:.2f}\", (10, 30), cv2.FONT_HERSHEY_SIMPLEX, 1, (0, 255, 0), 2)\n",
    "\n",
    "    # Display the resulting frame \n",
    "    cv2.imshow('Object Detection', frame)\n",
    "\n",
    "    # Break the loop on 'q' key press \n",
    "    if cv2.waitKey(1) & 0xFF == ord('q'):\n",
    "        break\n",
    "\n",
    "# When everything is done, release the capture and close \n",
    "windowscap.release()\n",
    "cv2.destroyAllWindows()"
   ]
  }
 ],
 "metadata": {
  "kernelspec": {
   "display_name": "Python 3 (ipykernel)",
   "language": "python",
   "name": "python3"
  },
  "language_info": {
   "codemirror_mode": {
    "name": "ipython",
    "version": 3
   },
   "file_extension": ".py",
   "mimetype": "text/x-python",
   "name": "python",
   "nbconvert_exporter": "python",
   "pygments_lexer": "ipython3",
   "version": "3.11.7"
  }
 },
 "nbformat": 4,
 "nbformat_minor": 5
}
